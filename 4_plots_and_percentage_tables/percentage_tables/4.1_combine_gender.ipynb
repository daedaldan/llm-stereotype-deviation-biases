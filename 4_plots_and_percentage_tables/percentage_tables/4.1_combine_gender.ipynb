{
 "cells": [
  {
   "cell_type": "markdown",
   "metadata": {},
   "source": [
    "# 4.1: Combining Percentage Tables by Gender\n",
    "We can combine the percentage tables for male and female percentages that belong to the same demographic group. (e.g., African American male and African American female)."
   ]
  },
  {
   "cell_type": "code",
   "execution_count": null,
   "metadata": {},
   "outputs": [],
   "source": [
    "import pandas as pd\n",
    "import numpy as np"
   ]
  },
  {
   "cell_type": "code",
   "execution_count": null,
   "metadata": {},
   "outputs": [],
   "source": [
    "# Initialize the names of the directory layout.\n",
    "BY_GENDER_DIRECTORY = \"by_gender\"\n",
    "\n",
    "models = [\"claude_3.5_sonnet\", \"command_r_plus\", \"gpt_4o_mini\", \"llama_3.1_70b\"]\n",
    "prompt_types = [\"implicit\", \"explicit\"]\n",
    "categories = [\"age\", \"ethnicity_and_race\"]\n",
    "attributes = [\"occupation\", \"politics\", \"religion\", \"sexual_orientation\", \"socioeconomic_status\"]\n",
    "\n",
    "# Iterate through every percentage table.\n",
    "for model in models:\n",
    "    for prompt_type in prompt_types:\n",
    "        for category in categories:\n",
    "            # Create the path of the directory that contains the percentage tables.\n",
    "            directory_path = \"/\".join([BY_GENDER_DIRECTORY, model, prompt_type, category])\n",
    "            # Iterate through each possible output group.\n",
    "            for attribute in attributes:\n",
    "                # Create the path of the CSV file.\n",
    "                csv_path = directory_path + \"/\" + category + \"_\" + attribute + \".csv\"\n",
    "                \n",
    "                # Import the CSV file as a dataframe.\n",
    "                percentages_with_gender_df = pd.read_csv(csv_path)\n",
    "                # Get the number of groups (including gender) in the dataframe.\n",
    "                if percentages_with_gender_df.shape[0] % 2 != 0:\n",
    "                    raise Exception(\"Number of groups in with_gender CSV is not even.\")\n",
    "\n",
    "                num_groups = int(percentages_with_gender_df.shape[0] / 2)\n",
    "                # Rename the group column.\n",
    "                percentages_with_gender_df = percentages_with_gender_df.rename(columns={\"group_with_gender\": \"group\"})\n",
    "\n",
    "                # Create a new dataframe with the same columns.\n",
    "                new_percentages_df = pd.DataFrame(columns=percentages_with_gender_df.columns)\n",
    "\n",
    "                # For each group, combine the male and female data and add it to the new dataframe.\n",
    "                for group_num in range(0, num_groups):\n",
    "                    # Get the name of the group.\n",
    "                    group_name = percentages_with_gender_df.iloc[group_num * 2][\"group\"].replace(\"_male\", \"\")\n",
    "                    # Create a new row with male and female data added together.\n",
    "                    new_row = percentages_with_gender_df.iloc[group_num * 2] + percentages_with_gender_df.iloc[group_num * 2 + 1]\n",
    "                    # Replace the group name for the new row.\n",
    "                    new_row[\"group\"] = group_name\n",
    "\n",
    "                    # Go through each value in the new row.\n",
    "                    for val_index in range(0, len(new_row)):\n",
    "                        # If the value is a float, divide it by two.\n",
    "                        if isinstance(new_row[val_index], np.float64):\n",
    "                            new_row[val_index] = new_row[val_index] / 2\n",
    "\n",
    "                    # Add the new row to the new dataframe.\n",
    "                    new_percentages_df.loc[group_num] = new_row\n",
    "                \n",
    "                # Export the new dataframe.\n",
    "                new_percentages_df.to_csv(csv_path.replace(BY_GENDER_DIRECTORY + \"/\", \"\"))"
   ]
  }
 ],
 "metadata": {
  "kernelspec": {
   "display_name": "venv",
   "language": "python",
   "name": "python3"
  },
  "language_info": {
   "codemirror_mode": {
    "name": "ipython",
    "version": 3
   },
   "file_extension": ".py",
   "mimetype": "text/x-python",
   "name": "python",
   "nbconvert_exporter": "python",
   "pygments_lexer": "ipython3",
   "version": "3.9.6"
  }
 },
 "nbformat": 4,
 "nbformat_minor": 2
}
